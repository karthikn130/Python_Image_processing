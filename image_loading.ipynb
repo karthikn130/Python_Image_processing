{
 "cells": [
  {
   "cell_type": "code",
   "execution_count": 1,
   "metadata": {},
   "outputs": [],
   "source": [
    "import cv2\n",
    "from PIL import Image"
   ]
  },
  {
   "cell_type": "code",
   "execution_count": 2,
   "metadata": {},
   "outputs": [],
   "source": [
    "baby_shower = Image.open(\"function.JPG\")"
   ]
  },
  {
   "cell_type": "code",
   "execution_count": 3,
   "metadata": {},
   "outputs": [
    {
     "name": "stdout",
     "output_type": "stream",
     "text": [
      "2005 1339\n"
     ]
    }
   ],
   "source": [
    "width, height = baby_shower.size\n",
    "print(width, height)"
   ]
  },
  {
   "cell_type": "code",
   "execution_count": 4,
   "metadata": {},
   "outputs": [
    {
     "name": "stdout",
     "output_type": "stream",
     "text": [
      "RGB\n"
     ]
    }
   ],
   "source": [
    "baby_shower_color = baby_shower.mode\n",
    "\n",
    "print(baby_shower_color)"
   ]
  },
  {
   "cell_type": "code",
   "execution_count": 5,
   "metadata": {},
   "outputs": [
    {
     "name": "stdout",
     "output_type": "stream",
     "text": [
      "(251, 239, 239)\n"
     ]
    }
   ],
   "source": [
    "baby_shower_pixel = baby_shower.getpixel((1,1))\n",
    "print(baby_shower_pixel)"
   ]
  },
  {
   "cell_type": "code",
   "execution_count": 6,
   "metadata": {},
   "outputs": [
    {
     "name": "stdout",
     "output_type": "stream",
     "text": [
      "JPEG\n"
     ]
    }
   ],
   "source": [
    "baby_shower_format = baby_shower.format\n",
    "print(baby_shower_format)"
   ]
  },
  {
   "cell_type": "code",
   "execution_count": 7,
   "metadata": {},
   "outputs": [
    {
     "name": "stdout",
     "output_type": "stream",
     "text": [
      "b'Exif\\x00\\x00II*\\x00\\x08\\x00\\x00\\x00\\x0b\\x00\\x0f\\x01\\x02\\x00\\x12\\x00\\x00\\x00\\x92\\x00\\x00\\x00\\x10\\x01\\x02\\x00\\x0b\\x00\\x00\\x00\\xa4\\x00\\x00\\x00\\x12\\x01\\x03\\x00\\x01\\x00\\x00\\x00\\x01\\x00\\x00\\x00\\x1a\\x01\\x05\\x00\\x01\\x00\\x00\\x00\\xaf\\x00\\x00\\x00\\x1b\\x01\\x05\\x00\\x01\\x00\\x00\\x00\\xb7\\x00\\x00\\x00(\\x01\\x03\\x00\\x01\\x00\\x00\\x00\\x02\\x00\\x00\\x001\\x01\\x02\\x00\\x1c\\x00\\x00\\x00\\xbf\\x00\\x00\\x002\\x01\\x02\\x00\\x14\\x00\\x00\\x00\\xdb\\x00\\x00\\x00\\x13\\x02\\x03\\x00\\x01\\x00\\x00\\x00\\x02\\x00\\x00\\x00i\\x87\\x04\\x00\\x01\\x00\\x00\\x00\\xf0\\x00\\x00\\x00%\\x88\\x04\\x00\\x01\\x00\\x00\\x00\\x8c\\x03\\x00\\x00\\xa0\\x03\\x00\\x00NIKON CORPORATION\\x00NIKON D750\\x00@B\\x0f\\x00\\x10\\'\\x00\\x00@B\\x0f\\x00\\x10\\'\\x00\\x00Adobe Photoshop CS3 Windows\\x002023:12:09 20:14:46\\x00\\x00(\\x00\\x9a\\x82\\x05\\x00\\x01\\x00\\x00\\x00\\xd6\\x02\\x00\\x00\\x9d\\x82\\x05\\x00\\x01\\x00\\x00\\x00\\xde\\x02\\x00\\x00\"\\x88\\x03\\x00\\x01\\x00\\x00\\x00\\x01\\x00\\x00\\x00\\'\\x88\\x03\\x00\\x01\\x00\\x00\\x00\\x90\\x01\\x00\\x000\\x88\\x03\\x00\\x01\\x00\\x00\\x00\\x02\\x00\\x00\\x00\\x00\\x90\\x07\\x00\\x04\\x00\\x00\\x000230\\x03\\x90\\x02\\x00\\x14\\x00\\x00\\x00\\xe6\\x02\\x00\\x00\\x04\\x90\\x02\\x00\\x14\\x00\\x00\\x00\\xfa\\x02\\x00\\x00\\x01\\x91\\x07\\x00\\x04\\x00\\x00\\x00\\x01\\x02\\x03\\x00\\x02\\x91\\x05\\x00\\x01\\x00\\x00\\x00\\x0e\\x03\\x00\\x00\\x04\\x92\\n\\x00\\x01\\x00\\x00\\x00\\x16\\x03\\x00\\x00\\x05\\x92\\x05\\x00\\x01\\x00\\x00\\x00\\x1e\\x03\\x00\\x00\\x07\\x92\\x03\\x00\\x01\\x00\\x00\\x00\\x05\\x00\\x00\\x00\\x08\\x92\\x03\\x00\\x01\\x00\\x00\\x00\\x00\\x00\\x00\\x00\\t\\x92\\x03\\x00\\x01\\x00\\x00\\x00\\x10\\x00\\x00\\x00\\n\\x92\\x05\\x00\\x01\\x00\\x00\\x00&\\x03\\x00\\x00\\x86\\x92\\x07\\x00,\\x00\\x00\\x00.\\x03\\x00\\x00\\x90\\x92\\x02\\x00\\x03\\x00\\x00\\x0078\\x00\\x00\\x91\\x92\\x02\\x00\\x03\\x00\\x00\\x0078\\x00\\x00\\x92\\x92\\x02\\x00\\x03\\x00\\x00\\x0078\\x00\\x00\\x00\\xa0\\x07\\x00\\x04\\x00\\x00\\x000100\\x01\\xa0\\x03\\x00\\x01\\x00\\x00\\x00\\x01\\x00\\x00\\x00\\x02\\xa0\\x04\\x00\\x01\\x00\\x00\\x00\\xd5\\x07\\x00\\x00\\x03\\xa0\\x04\\x00\\x01\\x00\\x00\\x00;\\x05\\x00\\x00\\x05\\xa0\\x04\\x00\\x01\\x00\\x00\\x00l\\x03\\x00\\x00\\x17\\xa2\\x03\\x00\\x01\\x00\\x00\\x00\\x02\\x00\\x00\\x00\\x00\\xa3\\x07\\x00\\x01\\x00\\x00\\x00\\x03\\x00\\x00\\x00\\x01\\xa3\\x07\\x00\\x01\\x00\\x00\\x00\\x01\\x00\\x00\\x00\\x02\\xa3\\x07\\x00\\x08\\x00\\x00\\x00Z\\x03\\x00\\x00\\x01\\xa4\\x03\\x00\\x01\\x00\\x00\\x00\\x00\\x00\\x00\\x00\\x02\\xa4\\x03\\x00\\x01\\x00\\x00\\x00\\x01\\x00\\x00\\x00\\x03\\xa4\\x03\\x00\\x01\\x00\\x00\\x00\\x01\\x00\\x00\\x00\\x04\\xa4\\x05\\x00\\x01\\x00\\x00\\x00b\\x03\\x00\\x00\\x05\\xa4\\x03\\x00\\x01\\x00\\x00\\x00&\\x00\\x00\\x00\\x06\\xa4\\x03\\x00\\x01\\x00\\x00\\x00\\x00\\x00\\x00\\x00\\x07\\xa4\\x03\\x00\\x01\\x00\\x00\\x00\\x01\\x00\\x00\\x00\\x08\\xa4\\x03\\x00\\x01\\x00\\x00\\x00\\x00\\x00\\x00\\x00\\t\\xa4\\x03\\x00\\x01\\x00\\x00\\x00\\x02\\x00\\x00\\x00\\n\\xa4\\x03\\x00\\x01\\x00\\x00\\x00\\x02\\x00\\x00\\x00\\x0c\\xa4\\x03\\x00\\x01\\x00\\x00\\x00\\x00\\x00\\x00\\x00\\x00\\x00\\x00\\x00\\n\\x00\\x00\\x00@\\x06\\x00\\x008\\x00\\x00\\x00\\n\\x00\\x00\\x002023:12:08 10:08:42\\x002023:12:08 10:08:42\\x00\\x04\\x00\\x00\\x00\\x01\\x00\\x00\\x00\\x00\\x00\\x00\\x00\\x06\\x00\\x00\\x00(\\x00\\x00\\x00\\n\\x00\\x00\\x00|\\x01\\x00\\x00\\n\\x00\\x00\\x00ASCII\\x00\\x00\\x00                                    \\x02\\x00\\x02\\x00\\x00\\x01\\x01\\x02\\x01\\x00\\x00\\x00\\x01\\x00\\x00\\x00\\x00\\x00\\x02\\x00\\x01\\x00\\x02\\x00\\x04\\x00\\x00\\x00R98\\x00\\x02\\x00\\x07\\x00\\x04\\x00\\x00\\x000100\\x00\\x00\\x00\\x00\\x00\\x00\\x01\\x00\\x00\\x00\\x01\\x00\\x04\\x00\\x00\\x00\\x02\\x03\\x00\\x00\\x00\\x00\\x00\\x00\\x00\\x00\\x06\\x00\\x03\\x01\\x03\\x00\\x01\\x00\\x00\\x00\\x06\\x00\\x00\\x00\\x1a\\x01\\x05\\x00\\x01\\x00\\x00\\x00\\xee\\x03\\x00\\x00\\x1b\\x01\\x05\\x00\\x01\\x00\\x00\\x00\\xf6\\x03\\x00\\x00(\\x01\\x03\\x00\\x01\\x00\\x00\\x00\\x02\\x00\\x00\\x00\\x01\\x02\\x04\\x00\\x01\\x00\\x00\\x00\\xfe\\x03\\x00\\x00\\x02\\x02\\x04\\x00\\x01\\x00\\x00\\x00\\x00\\x00\\x00\\x00\\x00\\x00\\x00\\x00H\\x00\\x00\\x00\\x01\\x00\\x00\\x00H\\x00\\x00\\x00\\x01\\x00\\x00\\x00'\n"
     ]
    }
   ],
   "source": [
    "baby_shower_exif = baby_shower.info.get(\"exif\")\n",
    "print(baby_shower_exif)"
   ]
  },
  {
   "cell_type": "code",
   "execution_count": 8,
   "metadata": {},
   "outputs": [
    {
     "name": "stdout",
     "output_type": "stream",
     "text": [
      "<bound method Image.histogram of <PIL.JpegImagePlugin.JpegImageFile image mode=RGB size=2005x1339 at 0x7F1FC459D040>>\n"
     ]
    }
   ],
   "source": [
    "baby_shower_histo = baby_shower.histogram\n",
    "print(baby_shower_histo)"
   ]
  },
  {
   "cell_type": "code",
   "execution_count": 9,
   "metadata": {},
   "outputs": [
    {
     "name": "stdout",
     "output_type": "stream",
     "text": [
      "{'jfif': 258, 'jfif_version': (1, 2), 'dpi': (100, 100), 'jfif_unit': 1, 'jfif_density': (100, 100), 'exif': b'Exif\\x00\\x00II*\\x00\\x08\\x00\\x00\\x00\\x0b\\x00\\x0f\\x01\\x02\\x00\\x12\\x00\\x00\\x00\\x92\\x00\\x00\\x00\\x10\\x01\\x02\\x00\\x0b\\x00\\x00\\x00\\xa4\\x00\\x00\\x00\\x12\\x01\\x03\\x00\\x01\\x00\\x00\\x00\\x01\\x00\\x00\\x00\\x1a\\x01\\x05\\x00\\x01\\x00\\x00\\x00\\xaf\\x00\\x00\\x00\\x1b\\x01\\x05\\x00\\x01\\x00\\x00\\x00\\xb7\\x00\\x00\\x00(\\x01\\x03\\x00\\x01\\x00\\x00\\x00\\x02\\x00\\x00\\x001\\x01\\x02\\x00\\x1c\\x00\\x00\\x00\\xbf\\x00\\x00\\x002\\x01\\x02\\x00\\x14\\x00\\x00\\x00\\xdb\\x00\\x00\\x00\\x13\\x02\\x03\\x00\\x01\\x00\\x00\\x00\\x02\\x00\\x00\\x00i\\x87\\x04\\x00\\x01\\x00\\x00\\x00\\xf0\\x00\\x00\\x00%\\x88\\x04\\x00\\x01\\x00\\x00\\x00\\x8c\\x03\\x00\\x00\\xa0\\x03\\x00\\x00NIKON CORPORATION\\x00NIKON D750\\x00@B\\x0f\\x00\\x10\\'\\x00\\x00@B\\x0f\\x00\\x10\\'\\x00\\x00Adobe Photoshop CS3 Windows\\x002023:12:09 20:14:46\\x00\\x00(\\x00\\x9a\\x82\\x05\\x00\\x01\\x00\\x00\\x00\\xd6\\x02\\x00\\x00\\x9d\\x82\\x05\\x00\\x01\\x00\\x00\\x00\\xde\\x02\\x00\\x00\"\\x88\\x03\\x00\\x01\\x00\\x00\\x00\\x01\\x00\\x00\\x00\\'\\x88\\x03\\x00\\x01\\x00\\x00\\x00\\x90\\x01\\x00\\x000\\x88\\x03\\x00\\x01\\x00\\x00\\x00\\x02\\x00\\x00\\x00\\x00\\x90\\x07\\x00\\x04\\x00\\x00\\x000230\\x03\\x90\\x02\\x00\\x14\\x00\\x00\\x00\\xe6\\x02\\x00\\x00\\x04\\x90\\x02\\x00\\x14\\x00\\x00\\x00\\xfa\\x02\\x00\\x00\\x01\\x91\\x07\\x00\\x04\\x00\\x00\\x00\\x01\\x02\\x03\\x00\\x02\\x91\\x05\\x00\\x01\\x00\\x00\\x00\\x0e\\x03\\x00\\x00\\x04\\x92\\n\\x00\\x01\\x00\\x00\\x00\\x16\\x03\\x00\\x00\\x05\\x92\\x05\\x00\\x01\\x00\\x00\\x00\\x1e\\x03\\x00\\x00\\x07\\x92\\x03\\x00\\x01\\x00\\x00\\x00\\x05\\x00\\x00\\x00\\x08\\x92\\x03\\x00\\x01\\x00\\x00\\x00\\x00\\x00\\x00\\x00\\t\\x92\\x03\\x00\\x01\\x00\\x00\\x00\\x10\\x00\\x00\\x00\\n\\x92\\x05\\x00\\x01\\x00\\x00\\x00&\\x03\\x00\\x00\\x86\\x92\\x07\\x00,\\x00\\x00\\x00.\\x03\\x00\\x00\\x90\\x92\\x02\\x00\\x03\\x00\\x00\\x0078\\x00\\x00\\x91\\x92\\x02\\x00\\x03\\x00\\x00\\x0078\\x00\\x00\\x92\\x92\\x02\\x00\\x03\\x00\\x00\\x0078\\x00\\x00\\x00\\xa0\\x07\\x00\\x04\\x00\\x00\\x000100\\x01\\xa0\\x03\\x00\\x01\\x00\\x00\\x00\\x01\\x00\\x00\\x00\\x02\\xa0\\x04\\x00\\x01\\x00\\x00\\x00\\xd5\\x07\\x00\\x00\\x03\\xa0\\x04\\x00\\x01\\x00\\x00\\x00;\\x05\\x00\\x00\\x05\\xa0\\x04\\x00\\x01\\x00\\x00\\x00l\\x03\\x00\\x00\\x17\\xa2\\x03\\x00\\x01\\x00\\x00\\x00\\x02\\x00\\x00\\x00\\x00\\xa3\\x07\\x00\\x01\\x00\\x00\\x00\\x03\\x00\\x00\\x00\\x01\\xa3\\x07\\x00\\x01\\x00\\x00\\x00\\x01\\x00\\x00\\x00\\x02\\xa3\\x07\\x00\\x08\\x00\\x00\\x00Z\\x03\\x00\\x00\\x01\\xa4\\x03\\x00\\x01\\x00\\x00\\x00\\x00\\x00\\x00\\x00\\x02\\xa4\\x03\\x00\\x01\\x00\\x00\\x00\\x01\\x00\\x00\\x00\\x03\\xa4\\x03\\x00\\x01\\x00\\x00\\x00\\x01\\x00\\x00\\x00\\x04\\xa4\\x05\\x00\\x01\\x00\\x00\\x00b\\x03\\x00\\x00\\x05\\xa4\\x03\\x00\\x01\\x00\\x00\\x00&\\x00\\x00\\x00\\x06\\xa4\\x03\\x00\\x01\\x00\\x00\\x00\\x00\\x00\\x00\\x00\\x07\\xa4\\x03\\x00\\x01\\x00\\x00\\x00\\x01\\x00\\x00\\x00\\x08\\xa4\\x03\\x00\\x01\\x00\\x00\\x00\\x00\\x00\\x00\\x00\\t\\xa4\\x03\\x00\\x01\\x00\\x00\\x00\\x02\\x00\\x00\\x00\\n\\xa4\\x03\\x00\\x01\\x00\\x00\\x00\\x02\\x00\\x00\\x00\\x0c\\xa4\\x03\\x00\\x01\\x00\\x00\\x00\\x00\\x00\\x00\\x00\\x00\\x00\\x00\\x00\\n\\x00\\x00\\x00@\\x06\\x00\\x008\\x00\\x00\\x00\\n\\x00\\x00\\x002023:12:08 10:08:42\\x002023:12:08 10:08:42\\x00\\x04\\x00\\x00\\x00\\x01\\x00\\x00\\x00\\x00\\x00\\x00\\x00\\x06\\x00\\x00\\x00(\\x00\\x00\\x00\\n\\x00\\x00\\x00|\\x01\\x00\\x00\\n\\x00\\x00\\x00ASCII\\x00\\x00\\x00                                    \\x02\\x00\\x02\\x00\\x00\\x01\\x01\\x02\\x01\\x00\\x00\\x00\\x01\\x00\\x00\\x00\\x00\\x00\\x02\\x00\\x01\\x00\\x02\\x00\\x04\\x00\\x00\\x00R98\\x00\\x02\\x00\\x07\\x00\\x04\\x00\\x00\\x000100\\x00\\x00\\x00\\x00\\x00\\x00\\x01\\x00\\x00\\x00\\x01\\x00\\x04\\x00\\x00\\x00\\x02\\x03\\x00\\x00\\x00\\x00\\x00\\x00\\x00\\x00\\x06\\x00\\x03\\x01\\x03\\x00\\x01\\x00\\x00\\x00\\x06\\x00\\x00\\x00\\x1a\\x01\\x05\\x00\\x01\\x00\\x00\\x00\\xee\\x03\\x00\\x00\\x1b\\x01\\x05\\x00\\x01\\x00\\x00\\x00\\xf6\\x03\\x00\\x00(\\x01\\x03\\x00\\x01\\x00\\x00\\x00\\x02\\x00\\x00\\x00\\x01\\x02\\x04\\x00\\x01\\x00\\x00\\x00\\xfe\\x03\\x00\\x00\\x02\\x02\\x04\\x00\\x01\\x00\\x00\\x00\\x00\\x00\\x00\\x00\\x00\\x00\\x00\\x00H\\x00\\x00\\x00\\x01\\x00\\x00\\x00H\\x00\\x00\\x00\\x01\\x00\\x00\\x00', 'photoshop': {1028: b'\\x1c\\x02\\x00\\x00\\x02\\xc0\\r', 1061: b'\\x95\\x94\\x06\"\\xaf+\\r\\\\\\xbc\\xad\\x0b\\xa1\\xd7\\x82\\x88_', 1071: b\"G\\x00\\x01\\x00H\\x00\\x00\\x00H\\x00\\x00\\x00\\x00\\x00\\x00\\x00\\x00\\x00\\x00\\x00\\xd0\\x02\\x00\\x00@\\x02\\x00\\x00\\x00\\x00\\x00\\x00\\x00\\x00\\x00\\x00\\x18\\x03\\x00\\x00d\\x02\\x00\\x00\\x00\\x01\\xc0\\x03\\x00\\x00\\xb0\\x04\\x00\\x00\\x01\\x00\\x0f'\\x01\\x003\\x003\\x001\\x004\\x00.\\x00J\\x00P\\x00\", 1005: {'XResolution': 100.0, 'DisplayedUnitsX': 1, 'YResolution': 100.0, 'DisplayedUnitsY': 1}, 1062: b'\\x00\\x00\\x00\\x00\\x00\\x00\\x00\\x00\\x00\\x00?\\x80\\x00\\x00', 1037: b'\\x00\\x00\\x00\\x1e', 1049: b'\\x00\\x00\\x00\\x1e', 1011: b'\\x00\\x00\\x00\\x00\\x00\\x00\\x00\\x00\\x01', 1034: b'\\x00', 10000: b'\\x00\\x01\\x00\\x00\\x00\\x00\\x00\\x00\\x00\\x02', 1013: b'\\x00/ff\\x00\\x01\\x00lff\\x00\\x06\\x00\\x00\\x00\\x00\\x00\\x01\\x00/ff\\x00\\x01\\x00\\xa1\\x99\\x9a\\x00\\x06\\x00\\x00\\x00\\x00\\x00\\x01\\x002\\x00\\x00\\x00\\x01\\x00Z\\x00\\x00\\x00\\x06\\x00\\x00\\x00\\x00\\x00\\x01\\x005\\x00\\x00\\x00\\x01\\x00-\\x00\\x00\\x00\\x06\\x00\\x00\\x00\\x00\\x00\\x01', 1016: b'\\x00\\x00\\xff\\xff\\xff\\xff\\xff\\xff\\xff\\xff\\xff\\xff\\xff\\xff\\xff\\xff\\xff\\xff\\xff\\xff\\xff\\xff\\xff\\xff\\x03\\xe8\\x00\\x00\\x00\\x00\\xff\\xff\\xff\\xff\\xff\\xff\\xff\\xff\\xff\\xff\\xff\\xff\\xff\\xff\\xff\\xff\\xff\\xff\\xff\\xff\\xff\\xff\\x03\\xe8\\x00\\x00\\x00\\x00\\xff\\xff\\xff\\xff\\xff\\xff\\xff\\xff\\xff\\xff\\xff\\xff\\xff\\xff\\xff\\xff\\xff\\xff\\xff\\xff\\xff\\xff\\x03\\xe8\\x00\\x00\\x00\\x00\\xff\\xff\\xff\\xff\\xff\\xff\\xff\\xff\\xff\\xff\\xff\\xff\\xff\\xff\\xff\\xff\\xff\\xff\\xff\\xff\\xff\\xff\\x03\\xe8\\x00\\x00', 1032: b'\\x00\\x00\\x00\\x01\\x00\\x00\\x02@\\x00\\x00\\x02@\\x00\\x00\\x00\\x00', 1054: b'\\x00\\x00\\x00\\x00', 1050: b'\\x00\\x00\\x00\\x06\\x00\\x00\\x00\\x00\\x00\\x00\\x00\\x00\\x00\\x00\\x05;\\x00\\x00\\x07\\xd5\\x00\\x00\\x00\\x08\\x00A\\x00R\\x00U\\x00_\\x003\\x003\\x001\\x004\\x00\\x00\\x00\\x01\\x00\\x00\\x00\\x00\\x00\\x00\\x00\\x00\\x00\\x00\\x00\\x00\\x00\\x00\\x00\\x00\\x00\\x00\\x00\\x01\\x00\\x00\\x00\\x00\\x00\\x00\\x00\\x00\\x00\\x00\\x07\\xd5\\x00\\x00\\x05;\\x00\\x00\\x00\\x00\\x00\\x00\\x00\\x00\\x00\\x00\\x00\\x00\\x00\\x00\\x00\\x00\\x01\\x00\\x00\\x00\\x00\\x00\\x00\\x00\\x00\\x00\\x00\\x00\\x00\\x00\\x00\\x00\\x00\\x00\\x00\\x00\\x10\\x00\\x00\\x00\\x01\\x00\\x00\\x00\\x00\\x00\\x00null\\x00\\x00\\x00\\x02\\x00\\x00\\x00\\x06boundsObjc\\x00\\x00\\x00\\x01\\x00\\x00\\x00\\x00\\x00\\x00Rct1\\x00\\x00\\x00\\x04\\x00\\x00\\x00\\x00Top long\\x00\\x00\\x00\\x00\\x00\\x00\\x00\\x00Leftlong\\x00\\x00\\x00\\x00\\x00\\x00\\x00\\x00Btomlong\\x00\\x00\\x05;\\x00\\x00\\x00\\x00Rghtlong\\x00\\x00\\x07\\xd5\\x00\\x00\\x00\\x06slicesVlLs\\x00\\x00\\x00\\x01Objc\\x00\\x00\\x00\\x01\\x00\\x00\\x00\\x00\\x00\\x05slice\\x00\\x00\\x00\\x12\\x00\\x00\\x00\\x07sliceIDlong\\x00\\x00\\x00\\x00\\x00\\x00\\x00\\x07groupIDlong\\x00\\x00\\x00\\x00\\x00\\x00\\x00\\x06originenum\\x00\\x00\\x00\\x0cESliceOrigin\\x00\\x00\\x00\\rautoGenerated\\x00\\x00\\x00\\x00Typeenum\\x00\\x00\\x00\\nESliceType\\x00\\x00\\x00\\x00Img \\x00\\x00\\x00\\x06boundsObjc\\x00\\x00\\x00\\x01\\x00\\x00\\x00\\x00\\x00\\x00Rct1\\x00\\x00\\x00\\x04\\x00\\x00\\x00\\x00Top long\\x00\\x00\\x00\\x00\\x00\\x00\\x00\\x00Leftlong\\x00\\x00\\x00\\x00\\x00\\x00\\x00\\x00Btomlong\\x00\\x00\\x05;\\x00\\x00\\x00\\x00Rghtlong\\x00\\x00\\x07\\xd5\\x00\\x00\\x00\\x03urlTEXT\\x00\\x00\\x00\\x01\\x00\\x00\\x00\\x00\\x00\\x00nullTEXT\\x00\\x00\\x00\\x01\\x00\\x00\\x00\\x00\\x00\\x00MsgeTEXT\\x00\\x00\\x00\\x01\\x00\\x00\\x00\\x00\\x00\\x06altTagTEXT\\x00\\x00\\x00\\x01\\x00\\x00\\x00\\x00\\x00\\x0ecellTextIsHTMLbool\\x01\\x00\\x00\\x00\\x08cellTextTEXT\\x00\\x00\\x00\\x01\\x00\\x00\\x00\\x00\\x00\\thorzAlignenum\\x00\\x00\\x00\\x0fESliceHorzAlign\\x00\\x00\\x00\\x07default\\x00\\x00\\x00\\tvertAlignenum\\x00\\x00\\x00\\x0fESliceVertAlign\\x00\\x00\\x00\\x07default\\x00\\x00\\x00\\x0bbgColorTypeenum\\x00\\x00\\x00\\x11ESliceBGColorType\\x00\\x00\\x00\\x00None\\x00\\x00\\x00\\ttopOutsetlong\\x00\\x00\\x00\\x00\\x00\\x00\\x00\\nleftOutsetlong\\x00\\x00\\x00\\x00\\x00\\x00\\x00\\x0cbottomOutsetlong\\x00\\x00\\x00\\x00\\x00\\x00\\x00\\x0brightOutsetlong\\x00\\x00\\x00\\x00', 1064: b'\\x00\\x00\\x00\\x01?\\xf0\\x00\\x00\\x00\\x00\\x00\\x00', 1044: b'\\x00\\x00\\x00\\x01', 1057: b'\\x00\\x00\\x00\\x01\\x01\\x00\\x00\\x00\\x0f\\x00A\\x00d\\x00o\\x00b\\x00e\\x00 \\x00P\\x00h\\x00o\\x00t\\x00o\\x00s\\x00h\\x00o\\x00p\\x00\\x00\\x00\\x13\\x00A\\x00d\\x00o\\x00b\\x00e\\x00 \\x00P\\x00h\\x00o\\x00t\\x00o\\x00s\\x00h\\x00o\\x00p\\x00 \\x00C\\x00S\\x003\\x00\\x00\\x00\\x01', 1030: b'\\x00\\x08\\x00\\x00\\x00\\x01\\x01'}, 'adobe': 100, 'adobe_transform': 1, 'icc_profile': b'\\x00\\x00\\x0cHLino\\x02\\x10\\x00\\x00mntrRGB XYZ \\x07\\xce\\x00\\x02\\x00\\t\\x00\\x06\\x001\\x00\\x00acspMSFT\\x00\\x00\\x00\\x00IEC sRGB\\x00\\x00\\x00\\x00\\x00\\x00\\x00\\x00\\x00\\x00\\x00\\x00\\x00\\x00\\xf6\\xd6\\x00\\x01\\x00\\x00\\x00\\x00\\xd3-HP  \\x00\\x00\\x00\\x00\\x00\\x00\\x00\\x00\\x00\\x00\\x00\\x00\\x00\\x00\\x00\\x00\\x00\\x00\\x00\\x00\\x00\\x00\\x00\\x00\\x00\\x00\\x00\\x00\\x00\\x00\\x00\\x00\\x00\\x00\\x00\\x00\\x00\\x00\\x00\\x00\\x00\\x00\\x00\\x00\\x00\\x00\\x00\\x11cprt\\x00\\x00\\x01P\\x00\\x00\\x003desc\\x00\\x00\\x01\\x84\\x00\\x00\\x00lwtpt\\x00\\x00\\x01\\xf0\\x00\\x00\\x00\\x14bkpt\\x00\\x00\\x02\\x04\\x00\\x00\\x00\\x14rXYZ\\x00\\x00\\x02\\x18\\x00\\x00\\x00\\x14gXYZ\\x00\\x00\\x02,\\x00\\x00\\x00\\x14bXYZ\\x00\\x00\\x02@\\x00\\x00\\x00\\x14dmnd\\x00\\x00\\x02T\\x00\\x00\\x00pdmdd\\x00\\x00\\x02\\xc4\\x00\\x00\\x00\\x88vued\\x00\\x00\\x03L\\x00\\x00\\x00\\x86view\\x00\\x00\\x03\\xd4\\x00\\x00\\x00$lumi\\x00\\x00\\x03\\xf8\\x00\\x00\\x00\\x14meas\\x00\\x00\\x04\\x0c\\x00\\x00\\x00$tech\\x00\\x00\\x040\\x00\\x00\\x00\\x0crTRC\\x00\\x00\\x04<\\x00\\x00\\x08\\x0cgTRC\\x00\\x00\\x04<\\x00\\x00\\x08\\x0cbTRC\\x00\\x00\\x04<\\x00\\x00\\x08\\x0ctext\\x00\\x00\\x00\\x00Copyright (c) 1998 Hewlett-Packard Company\\x00\\x00desc\\x00\\x00\\x00\\x00\\x00\\x00\\x00\\x12sRGB IEC61966-2.1\\x00\\x00\\x00\\x00\\x00\\x00\\x00\\x00\\x00\\x00\\x00\\x12sRGB IEC61966-2.1\\x00\\x00\\x00\\x00\\x00\\x00\\x00\\x00\\x00\\x00\\x00\\x00\\x00\\x00\\x00\\x00\\x00\\x00\\x00\\x00\\x00\\x00\\x00\\x00\\x00\\x00\\x00\\x00\\x00\\x00\\x00\\x00\\x00\\x00\\x00\\x00\\x00\\x00\\x00\\x00\\x00\\x00\\x00\\x00\\x00\\x00\\x00\\x00\\x00\\x00XYZ \\x00\\x00\\x00\\x00\\x00\\x00\\xf3Q\\x00\\x01\\x00\\x00\\x00\\x01\\x16\\xccXYZ \\x00\\x00\\x00\\x00\\x00\\x00\\x00\\x00\\x00\\x00\\x00\\x00\\x00\\x00\\x00\\x00XYZ \\x00\\x00\\x00\\x00\\x00\\x00o\\xa2\\x00\\x008\\xf5\\x00\\x00\\x03\\x90XYZ \\x00\\x00\\x00\\x00\\x00\\x00b\\x99\\x00\\x00\\xb7\\x85\\x00\\x00\\x18\\xdaXYZ \\x00\\x00\\x00\\x00\\x00\\x00$\\xa0\\x00\\x00\\x0f\\x84\\x00\\x00\\xb6\\xcfdesc\\x00\\x00\\x00\\x00\\x00\\x00\\x00\\x16IEC http://www.iec.ch\\x00\\x00\\x00\\x00\\x00\\x00\\x00\\x00\\x00\\x00\\x00\\x16IEC http://www.iec.ch\\x00\\x00\\x00\\x00\\x00\\x00\\x00\\x00\\x00\\x00\\x00\\x00\\x00\\x00\\x00\\x00\\x00\\x00\\x00\\x00\\x00\\x00\\x00\\x00\\x00\\x00\\x00\\x00\\x00\\x00\\x00\\x00\\x00\\x00\\x00\\x00\\x00\\x00\\x00\\x00\\x00\\x00\\x00\\x00\\x00\\x00desc\\x00\\x00\\x00\\x00\\x00\\x00\\x00.IEC 61966-2.1 Default RGB colour space - sRGB\\x00\\x00\\x00\\x00\\x00\\x00\\x00\\x00\\x00\\x00\\x00.IEC 61966-2.1 Default RGB colour space - sRGB\\x00\\x00\\x00\\x00\\x00\\x00\\x00\\x00\\x00\\x00\\x00\\x00\\x00\\x00\\x00\\x00\\x00\\x00\\x00\\x00\\x00\\x00desc\\x00\\x00\\x00\\x00\\x00\\x00\\x00,Reference Viewing Condition in IEC61966-2.1\\x00\\x00\\x00\\x00\\x00\\x00\\x00\\x00\\x00\\x00\\x00,Reference Viewing Condition in IEC61966-2.1\\x00\\x00\\x00\\x00\\x00\\x00\\x00\\x00\\x00\\x00\\x00\\x00\\x00\\x00\\x00\\x00\\x00\\x00\\x00\\x00\\x00\\x00\\x00\\x00\\x00\\x00view\\x00\\x00\\x00\\x00\\x00\\x13\\xa4\\xfe\\x00\\x14_.\\x00\\x10\\xcf\\x14\\x00\\x03\\xed\\xcc\\x00\\x04\\x13\\x0b\\x00\\x03\\\\\\x9e\\x00\\x00\\x00\\x01XYZ \\x00\\x00\\x00\\x00\\x00L\\tV\\x00P\\x00\\x00\\x00W\\x1f\\xe7meas\\x00\\x00\\x00\\x00\\x00\\x00\\x00\\x01\\x00\\x00\\x00\\x00\\x00\\x00\\x00\\x00\\x00\\x00\\x00\\x00\\x00\\x00\\x00\\x00\\x00\\x00\\x02\\x8f\\x00\\x00\\x00\\x02sig \\x00\\x00\\x00\\x00CRT curv\\x00\\x00\\x00\\x00\\x00\\x00\\x04\\x00\\x00\\x00\\x00\\x05\\x00\\n\\x00\\x0f\\x00\\x14\\x00\\x19\\x00\\x1e\\x00#\\x00(\\x00-\\x002\\x007\\x00;\\x00@\\x00E\\x00J\\x00O\\x00T\\x00Y\\x00^\\x00c\\x00h\\x00m\\x00r\\x00w\\x00|\\x00\\x81\\x00\\x86\\x00\\x8b\\x00\\x90\\x00\\x95\\x00\\x9a\\x00\\x9f\\x00\\xa4\\x00\\xa9\\x00\\xae\\x00\\xb2\\x00\\xb7\\x00\\xbc\\x00\\xc1\\x00\\xc6\\x00\\xcb\\x00\\xd0\\x00\\xd5\\x00\\xdb\\x00\\xe0\\x00\\xe5\\x00\\xeb\\x00\\xf0\\x00\\xf6\\x00\\xfb\\x01\\x01\\x01\\x07\\x01\\r\\x01\\x13\\x01\\x19\\x01\\x1f\\x01%\\x01+\\x012\\x018\\x01>\\x01E\\x01L\\x01R\\x01Y\\x01`\\x01g\\x01n\\x01u\\x01|\\x01\\x83\\x01\\x8b\\x01\\x92\\x01\\x9a\\x01\\xa1\\x01\\xa9\\x01\\xb1\\x01\\xb9\\x01\\xc1\\x01\\xc9\\x01\\xd1\\x01\\xd9\\x01\\xe1\\x01\\xe9\\x01\\xf2\\x01\\xfa\\x02\\x03\\x02\\x0c\\x02\\x14\\x02\\x1d\\x02&\\x02/\\x028\\x02A\\x02K\\x02T\\x02]\\x02g\\x02q\\x02z\\x02\\x84\\x02\\x8e\\x02\\x98\\x02\\xa2\\x02\\xac\\x02\\xb6\\x02\\xc1\\x02\\xcb\\x02\\xd5\\x02\\xe0\\x02\\xeb\\x02\\xf5\\x03\\x00\\x03\\x0b\\x03\\x16\\x03!\\x03-\\x038\\x03C\\x03O\\x03Z\\x03f\\x03r\\x03~\\x03\\x8a\\x03\\x96\\x03\\xa2\\x03\\xae\\x03\\xba\\x03\\xc7\\x03\\xd3\\x03\\xe0\\x03\\xec\\x03\\xf9\\x04\\x06\\x04\\x13\\x04 \\x04-\\x04;\\x04H\\x04U\\x04c\\x04q\\x04~\\x04\\x8c\\x04\\x9a\\x04\\xa8\\x04\\xb6\\x04\\xc4\\x04\\xd3\\x04\\xe1\\x04\\xf0\\x04\\xfe\\x05\\r\\x05\\x1c\\x05+\\x05:\\x05I\\x05X\\x05g\\x05w\\x05\\x86\\x05\\x96\\x05\\xa6\\x05\\xb5\\x05\\xc5\\x05\\xd5\\x05\\xe5\\x05\\xf6\\x06\\x06\\x06\\x16\\x06\\'\\x067\\x06H\\x06Y\\x06j\\x06{\\x06\\x8c\\x06\\x9d\\x06\\xaf\\x06\\xc0\\x06\\xd1\\x06\\xe3\\x06\\xf5\\x07\\x07\\x07\\x19\\x07+\\x07=\\x07O\\x07a\\x07t\\x07\\x86\\x07\\x99\\x07\\xac\\x07\\xbf\\x07\\xd2\\x07\\xe5\\x07\\xf8\\x08\\x0b\\x08\\x1f\\x082\\x08F\\x08Z\\x08n\\x08\\x82\\x08\\x96\\x08\\xaa\\x08\\xbe\\x08\\xd2\\x08\\xe7\\x08\\xfb\\t\\x10\\t%\\t:\\tO\\td\\ty\\t\\x8f\\t\\xa4\\t\\xba\\t\\xcf\\t\\xe5\\t\\xfb\\n\\x11\\n\\'\\n=\\nT\\nj\\n\\x81\\n\\x98\\n\\xae\\n\\xc5\\n\\xdc\\n\\xf3\\x0b\\x0b\\x0b\"\\x0b9\\x0bQ\\x0bi\\x0b\\x80\\x0b\\x98\\x0b\\xb0\\x0b\\xc8\\x0b\\xe1\\x0b\\xf9\\x0c\\x12\\x0c*\\x0cC\\x0c\\\\\\x0cu\\x0c\\x8e\\x0c\\xa7\\x0c\\xc0\\x0c\\xd9\\x0c\\xf3\\r\\r\\r&\\r@\\rZ\\rt\\r\\x8e\\r\\xa9\\r\\xc3\\r\\xde\\r\\xf8\\x0e\\x13\\x0e.\\x0eI\\x0ed\\x0e\\x7f\\x0e\\x9b\\x0e\\xb6\\x0e\\xd2\\x0e\\xee\\x0f\\t\\x0f%\\x0fA\\x0f^\\x0fz\\x0f\\x96\\x0f\\xb3\\x0f\\xcf\\x0f\\xec\\x10\\t\\x10&\\x10C\\x10a\\x10~\\x10\\x9b\\x10\\xb9\\x10\\xd7\\x10\\xf5\\x11\\x13\\x111\\x11O\\x11m\\x11\\x8c\\x11\\xaa\\x11\\xc9\\x11\\xe8\\x12\\x07\\x12&\\x12E\\x12d\\x12\\x84\\x12\\xa3\\x12\\xc3\\x12\\xe3\\x13\\x03\\x13#\\x13C\\x13c\\x13\\x83\\x13\\xa4\\x13\\xc5\\x13\\xe5\\x14\\x06\\x14\\'\\x14I\\x14j\\x14\\x8b\\x14\\xad\\x14\\xce\\x14\\xf0\\x15\\x12\\x154\\x15V\\x15x\\x15\\x9b\\x15\\xbd\\x15\\xe0\\x16\\x03\\x16&\\x16I\\x16l\\x16\\x8f\\x16\\xb2\\x16\\xd6\\x16\\xfa\\x17\\x1d\\x17A\\x17e\\x17\\x89\\x17\\xae\\x17\\xd2\\x17\\xf7\\x18\\x1b\\x18@\\x18e\\x18\\x8a\\x18\\xaf\\x18\\xd5\\x18\\xfa\\x19 \\x19E\\x19k\\x19\\x91\\x19\\xb7\\x19\\xdd\\x1a\\x04\\x1a*\\x1aQ\\x1aw\\x1a\\x9e\\x1a\\xc5\\x1a\\xec\\x1b\\x14\\x1b;\\x1bc\\x1b\\x8a\\x1b\\xb2\\x1b\\xda\\x1c\\x02\\x1c*\\x1cR\\x1c{\\x1c\\xa3\\x1c\\xcc\\x1c\\xf5\\x1d\\x1e\\x1dG\\x1dp\\x1d\\x99\\x1d\\xc3\\x1d\\xec\\x1e\\x16\\x1e@\\x1ej\\x1e\\x94\\x1e\\xbe\\x1e\\xe9\\x1f\\x13\\x1f>\\x1fi\\x1f\\x94\\x1f\\xbf\\x1f\\xea \\x15 A l \\x98 \\xc4 \\xf0!\\x1c!H!u!\\xa1!\\xce!\\xfb\"\\'\"U\"\\x82\"\\xaf\"\\xdd#\\n#8#f#\\x94#\\xc2#\\xf0$\\x1f$M$|$\\xab$\\xda%\\t%8%h%\\x97%\\xc7%\\xf7&\\'&W&\\x87&\\xb7&\\xe8\\'\\x18\\'I\\'z\\'\\xab\\'\\xdc(\\r(?(q(\\xa2(\\xd4)\\x06)8)k)\\x9d)\\xd0*\\x02*5*h*\\x9b*\\xcf+\\x02+6+i+\\x9d+\\xd1,\\x05,9,n,\\xa2,\\xd7-\\x0c-A-v-\\xab-\\xe1.\\x16.L.\\x82.\\xb7.\\xee/$/Z/\\x91/\\xc7/\\xfe050l0\\xa40\\xdb1\\x121J1\\x821\\xba1\\xf22*2c2\\x9b2\\xd43\\r3F3\\x7f3\\xb83\\xf14+4e4\\x9e4\\xd85\\x135M5\\x875\\xc25\\xfd676r6\\xae6\\xe97$7`7\\x9c7\\xd78\\x148P8\\x8c8\\xc89\\x059B9\\x7f9\\xbc9\\xf9:6:t:\\xb2:\\xef;-;k;\\xaa;\\xe8<\\'<e<\\xa4<\\xe3=\"=a=\\xa1=\\xe0> >`>\\xa0>\\xe0?!?a?\\xa2?\\xe2@#@d@\\xa6@\\xe7A)AjA\\xacA\\xeeB0BrB\\xb5B\\xf7C:C}C\\xc0D\\x03DGD\\x8aD\\xceE\\x12EUE\\x9aE\\xdeF\"FgF\\xabF\\xf0G5G{G\\xc0H\\x05HKH\\x91H\\xd7I\\x1dIcI\\xa9I\\xf0J7J}J\\xc4K\\x0cKSK\\x9aK\\xe2L*LrL\\xbaM\\x02MJM\\x93M\\xdcN%NnN\\xb7O\\x00OIO\\x93O\\xddP\\'PqP\\xbbQ\\x06QPQ\\x9bQ\\xe6R1R|R\\xc7S\\x13S_S\\xaaS\\xf6TBT\\x8fT\\xdbU(UuU\\xc2V\\x0fV\\\\V\\xa9V\\xf7WDW\\x92W\\xe0X/X}X\\xcbY\\x1aYiY\\xb8Z\\x07ZVZ\\xa6Z\\xf5[E[\\x95[\\xe5\\\\5\\\\\\x86\\\\\\xd6]\\']x]\\xc9^\\x1a^l^\\xbd_\\x0f_a_\\xb3`\\x05`W`\\xaa`\\xfcaOa\\xa2a\\xf5bIb\\x9cb\\xf0cCc\\x97c\\xebd@d\\x94d\\xe9e=e\\x92e\\xe7f=f\\x92f\\xe8g=g\\x93g\\xe9h?h\\x96h\\xeciCi\\x9ai\\xf1jHj\\x9fj\\xf7kOk\\xa7k\\xfflWl\\xafm\\x08m`m\\xb9n\\x12nkn\\xc4o\\x1eoxo\\xd1p+p\\x86p\\xe0q:q\\x95q\\xf0rKr\\xa6s\\x01s]s\\xb8t\\x14tpt\\xccu(u\\x85u\\xe1v>v\\x9bv\\xf8wVw\\xb3x\\x11xnx\\xccy*y\\x89y\\xe7zFz\\xa5{\\x04{c{\\xc2|!|\\x81|\\xe1}A}\\xa1~\\x01~b~\\xc2\\x7f#\\x7f\\x84\\x7f\\xe5\\x80G\\x80\\xa8\\x81\\n\\x81k\\x81\\xcd\\x820\\x82\\x92\\x82\\xf4\\x83W\\x83\\xba\\x84\\x1d\\x84\\x80\\x84\\xe3\\x85G\\x85\\xab\\x86\\x0e\\x86r\\x86\\xd7\\x87;\\x87\\x9f\\x88\\x04\\x88i\\x88\\xce\\x893\\x89\\x99\\x89\\xfe\\x8ad\\x8a\\xca\\x8b0\\x8b\\x96\\x8b\\xfc\\x8cc\\x8c\\xca\\x8d1\\x8d\\x98\\x8d\\xff\\x8ef\\x8e\\xce\\x8f6\\x8f\\x9e\\x90\\x06\\x90n\\x90\\xd6\\x91?\\x91\\xa8\\x92\\x11\\x92z\\x92\\xe3\\x93M\\x93\\xb6\\x94 \\x94\\x8a\\x94\\xf4\\x95_\\x95\\xc9\\x964\\x96\\x9f\\x97\\n\\x97u\\x97\\xe0\\x98L\\x98\\xb8\\x99$\\x99\\x90\\x99\\xfc\\x9ah\\x9a\\xd5\\x9bB\\x9b\\xaf\\x9c\\x1c\\x9c\\x89\\x9c\\xf7\\x9dd\\x9d\\xd2\\x9e@\\x9e\\xae\\x9f\\x1d\\x9f\\x8b\\x9f\\xfa\\xa0i\\xa0\\xd8\\xa1G\\xa1\\xb6\\xa2&\\xa2\\x96\\xa3\\x06\\xa3v\\xa3\\xe6\\xa4V\\xa4\\xc7\\xa58\\xa5\\xa9\\xa6\\x1a\\xa6\\x8b\\xa6\\xfd\\xa7n\\xa7\\xe0\\xa8R\\xa8\\xc4\\xa97\\xa9\\xa9\\xaa\\x1c\\xaa\\x8f\\xab\\x02\\xabu\\xab\\xe9\\xac\\\\\\xac\\xd0\\xadD\\xad\\xb8\\xae-\\xae\\xa1\\xaf\\x16\\xaf\\x8b\\xb0\\x00\\xb0u\\xb0\\xea\\xb1`\\xb1\\xd6\\xb2K\\xb2\\xc2\\xb38\\xb3\\xae\\xb4%\\xb4\\x9c\\xb5\\x13\\xb5\\x8a\\xb6\\x01\\xb6y\\xb6\\xf0\\xb7h\\xb7\\xe0\\xb8Y\\xb8\\xd1\\xb9J\\xb9\\xc2\\xba;\\xba\\xb5\\xbb.\\xbb\\xa7\\xbc!\\xbc\\x9b\\xbd\\x15\\xbd\\x8f\\xbe\\n\\xbe\\x84\\xbe\\xff\\xbfz\\xbf\\xf5\\xc0p\\xc0\\xec\\xc1g\\xc1\\xe3\\xc2_\\xc2\\xdb\\xc3X\\xc3\\xd4\\xc4Q\\xc4\\xce\\xc5K\\xc5\\xc8\\xc6F\\xc6\\xc3\\xc7A\\xc7\\xbf\\xc8=\\xc8\\xbc\\xc9:\\xc9\\xb9\\xca8\\xca\\xb7\\xcb6\\xcb\\xb6\\xcc5\\xcc\\xb5\\xcd5\\xcd\\xb5\\xce6\\xce\\xb6\\xcf7\\xcf\\xb8\\xd09\\xd0\\xba\\xd1<\\xd1\\xbe\\xd2?\\xd2\\xc1\\xd3D\\xd3\\xc6\\xd4I\\xd4\\xcb\\xd5N\\xd5\\xd1\\xd6U\\xd6\\xd8\\xd7\\\\\\xd7\\xe0\\xd8d\\xd8\\xe8\\xd9l\\xd9\\xf1\\xdav\\xda\\xfb\\xdb\\x80\\xdc\\x05\\xdc\\x8a\\xdd\\x10\\xdd\\x96\\xde\\x1c\\xde\\xa2\\xdf)\\xdf\\xaf\\xe06\\xe0\\xbd\\xe1D\\xe1\\xcc\\xe2S\\xe2\\xdb\\xe3c\\xe3\\xeb\\xe4s\\xe4\\xfc\\xe5\\x84\\xe6\\r\\xe6\\x96\\xe7\\x1f\\xe7\\xa9\\xe82\\xe8\\xbc\\xe9F\\xe9\\xd0\\xea[\\xea\\xe5\\xebp\\xeb\\xfb\\xec\\x86\\xed\\x11\\xed\\x9c\\xee(\\xee\\xb4\\xef@\\xef\\xcc\\xf0X\\xf0\\xe5\\xf1r\\xf1\\xff\\xf2\\x8c\\xf3\\x19\\xf3\\xa7\\xf44\\xf4\\xc2\\xf5P\\xf5\\xde\\xf6m\\xf6\\xfb\\xf7\\x8a\\xf8\\x19\\xf8\\xa8\\xf98\\xf9\\xc7\\xfaW\\xfa\\xe7\\xfbw\\xfc\\x07\\xfc\\x98\\xfd)\\xfd\\xba\\xfeK\\xfe\\xdc\\xffm\\xff\\xff'}\n"
     ]
    }
   ],
   "source": [
    "baby_shower_info = baby_shower.info\n",
    "print(baby_shower_info)"
   ]
  },
  {
   "cell_type": "code",
   "execution_count": 11,
   "metadata": {},
   "outputs": [
    {
     "name": "stderr",
     "output_type": "stream",
     "text": [
      "/usr/bin/xdg-open: line 686: 21556 Aborted                 (core dumped) \"kde-open${KDE_SESSION_VERSION}\" \"$1\"\n"
     ]
    }
   ],
   "source": [
    "baby_shower_small = baby_shower.resize((200, 200))\n",
    "baby_shower_small.save(\"small.png\")\n",
    "baby_shower_small.show()\n"
   ]
  },
  {
   "cell_type": "code",
   "execution_count": 38,
   "metadata": {},
   "outputs": [],
   "source": [
    "cropped_baby = baby_shower.crop(box = (5,5,10,10))\n",
    "cropped_baby.save(\"crop.png\")\n"
   ]
  },
  {
   "cell_type": "markdown",
   "metadata": {},
   "source": [
    "ROI"
   ]
  },
  {
   "cell_type": "code",
   "execution_count": 40,
   "metadata": {},
   "outputs": [],
   "source": [
    "baby_pix = baby_shower.load()\n",
    "# when img is loaded the operations \n",
    "#are performed in img directly\n",
    "for x in range(width):\n",
    "    for y in range(height):\n",
    "        r,g,b = baby_pix[x,y]\n",
    "        if r > 200 and g < 100 and b < 100:\n",
    "            baby_pix[x,y] = (0, 0, 0)\n",
    "baby_shower.save(\"roi.png\")\n",
    "\n"
   ]
  },
  {
   "cell_type": "markdown",
   "metadata": {},
   "source": [
    "Rotation and flipping"
   ]
  },
  {
   "cell_type": "code",
   "execution_count": 43,
   "metadata": {},
   "outputs": [],
   "source": [
    "rotated_baby = baby_shower.rotate(45)\n",
    "rotated_baby.save(\"rotate45.png\")"
   ]
  },
  {
   "cell_type": "code",
   "execution_count": 45,
   "metadata": {},
   "outputs": [],
   "source": [
    "flip = baby_shower.transpose(Image.FLIP_LEFT_RIGHT)\n",
    "flip.save(\"flipped.png\")\n"
   ]
  },
  {
   "cell_type": "markdown",
   "metadata": {},
   "source": [
    "using cv2"
   ]
  },
  {
   "cell_type": "code",
   "execution_count": 51,
   "metadata": {},
   "outputs": [
    {
     "data": {
      "text/plain": [
       "True"
      ]
     },
     "execution_count": 51,
     "metadata": {},
     "output_type": "execute_result"
    }
   ],
   "source": [
    "baby = cv2.imread(\"function.JPG\")\n",
    "height, width, channel = baby.shape\n",
    "small_baby = cv2.resize(baby, (200, 200) )\n",
    "cv2.imwrite(\"small.png\", small_baby)\n",
    "resisewithAS = cv2.resize(baby, (200, 200), interpolation=cv2.INTER_AREA)\n",
    "cv2.imwrite(\"As.png\" , resisewithAS)\n",
    "\n"
   ]
  },
  {
   "cell_type": "code",
   "execution_count": 67,
   "metadata": {},
   "outputs": [
    {
     "name": "stderr",
     "output_type": "stream",
     "text": [
      "QObject::moveToThread: Current thread (0x335c770) is not the object's thread (0x33b1960).\n",
      "Cannot move to target thread (0x335c770)\n",
      "\n",
      "QObject::moveToThread: Current thread (0x335c770) is not the object's thread (0x33b1960).\n",
      "Cannot move to target thread (0x335c770)\n",
      "\n",
      "QObject::moveToThread: Current thread (0x335c770) is not the object's thread (0x33b1960).\n",
      "Cannot move to target thread (0x335c770)\n",
      "\n",
      "QObject::moveToThread: Current thread (0x335c770) is not the object's thread (0x33b1960).\n",
      "Cannot move to target thread (0x335c770)\n",
      "\n",
      "QObject::moveToThread: Current thread (0x335c770) is not the object's thread (0x33b1960).\n",
      "Cannot move to target thread (0x335c770)\n",
      "\n",
      "QObject::moveToThread: Current thread (0x335c770) is not the object's thread (0x33b1960).\n",
      "Cannot move to target thread (0x335c770)\n",
      "\n",
      "QObject::moveToThread: Current thread (0x335c770) is not the object's thread (0x33b1960).\n",
      "Cannot move to target thread (0x335c770)\n",
      "\n",
      "QObject::moveToThread: Current thread (0x335c770) is not the object's thread (0x33b1960).\n",
      "Cannot move to target thread (0x335c770)\n",
      "\n",
      "QObject::moveToThread: Current thread (0x335c770) is not the object's thread (0x33b1960).\n",
      "Cannot move to target thread (0x335c770)\n",
      "\n",
      "QObject::moveToThread: Current thread (0x335c770) is not the object's thread (0x33b1960).\n",
      "Cannot move to target thread (0x335c770)\n",
      "\n",
      "QObject::moveToThread: Current thread (0x335c770) is not the object's thread (0x33b1960).\n",
      "Cannot move to target thread (0x335c770)\n",
      "\n",
      "QObject::moveToThread: Current thread (0x335c770) is not the object's thread (0x33b1960).\n",
      "Cannot move to target thread (0x335c770)\n",
      "\n",
      "QObject::moveToThread: Current thread (0x335c770) is not the object's thread (0x33b1960).\n",
      "Cannot move to target thread (0x335c770)\n",
      "\n",
      "QObject::moveToThread: Current thread (0x335c770) is not the object's thread (0x33b1960).\n",
      "Cannot move to target thread (0x335c770)\n",
      "\n",
      "QObject::moveToThread: Current thread (0x335c770) is not the object's thread (0x33b1960).\n",
      "Cannot move to target thread (0x335c770)\n",
      "\n",
      "QObject::moveToThread: Current thread (0x335c770) is not the object's thread (0x33b1960).\n",
      "Cannot move to target thread (0x335c770)\n",
      "\n",
      "QObject::moveToThread: Current thread (0x335c770) is not the object's thread (0x33b1960).\n",
      "Cannot move to target thread (0x335c770)\n",
      "\n",
      "QObject::moveToThread: Current thread (0x335c770) is not the object's thread (0x33b1960).\n",
      "Cannot move to target thread (0x335c770)\n",
      "\n",
      "QObject::moveToThread: Current thread (0x335c770) is not the object's thread (0x33b1960).\n",
      "Cannot move to target thread (0x335c770)\n",
      "\n",
      "QObject::moveToThread: Current thread (0x335c770) is not the object's thread (0x33b1960).\n",
      "Cannot move to target thread (0x335c770)\n",
      "\n",
      "QObject::moveToThread: Current thread (0x335c770) is not the object's thread (0x33b1960).\n",
      "Cannot move to target thread (0x335c770)\n",
      "\n",
      "QObject::moveToThread: Current thread (0x335c770) is not the object's thread (0x33b1960).\n",
      "Cannot move to target thread (0x335c770)\n",
      "\n",
      "QObject::moveToThread: Current thread (0x335c770) is not the object's thread (0x33b1960).\n",
      "Cannot move to target thread (0x335c770)\n",
      "\n",
      "QObject::moveToThread: Current thread (0x335c770) is not the object's thread (0x33b1960).\n",
      "Cannot move to target thread (0x335c770)\n",
      "\n",
      "QObject::moveToThread: Current thread (0x335c770) is not the object's thread (0x33b1960).\n",
      "Cannot move to target thread (0x335c770)\n",
      "\n",
      "QObject::moveToThread: Current thread (0x335c770) is not the object's thread (0x33b1960).\n",
      "Cannot move to target thread (0x335c770)\n",
      "\n",
      "QObject::moveToThread: Current thread (0x335c770) is not the object's thread (0x33b1960).\n",
      "Cannot move to target thread (0x335c770)\n",
      "\n",
      "QObject::moveToThread: Current thread (0x335c770) is not the object's thread (0x33b1960).\n",
      "Cannot move to target thread (0x335c770)\n",
      "\n",
      "QObject::moveToThread: Current thread (0x335c770) is not the object's thread (0x33b1960).\n",
      "Cannot move to target thread (0x335c770)\n",
      "\n",
      "QObject::moveToThread: Current thread (0x335c770) is not the object's thread (0x33b1960).\n",
      "Cannot move to target thread (0x335c770)\n",
      "\n",
      "QObject::moveToThread: Current thread (0x335c770) is not the object's thread (0x33b1960).\n",
      "Cannot move to target thread (0x335c770)\n",
      "\n",
      "QObject::moveToThread: Current thread (0x335c770) is not the object's thread (0x33b1960).\n",
      "Cannot move to target thread (0x335c770)\n",
      "\n",
      "QObject::moveToThread: Current thread (0x335c770) is not the object's thread (0x33b1960).\n",
      "Cannot move to target thread (0x335c770)\n",
      "\n",
      "QObject::moveToThread: Current thread (0x335c770) is not the object's thread (0x33b1960).\n",
      "Cannot move to target thread (0x335c770)\n",
      "\n",
      "QObject::moveToThread: Current thread (0x335c770) is not the object's thread (0x33b1960).\n",
      "Cannot move to target thread (0x335c770)\n",
      "\n",
      "QObject::moveToThread: Current thread (0x335c770) is not the object's thread (0x33b1960).\n",
      "Cannot move to target thread (0x335c770)\n",
      "\n",
      "QObject::moveToThread: Current thread (0x335c770) is not the object's thread (0x33b1960).\n",
      "Cannot move to target thread (0x335c770)\n",
      "\n",
      "QObject::moveToThread: Current thread (0x335c770) is not the object's thread (0x33b1960).\n",
      "Cannot move to target thread (0x335c770)\n",
      "\n",
      "QObject::moveToThread: Current thread (0x335c770) is not the object's thread (0x33b1960).\n",
      "Cannot move to target thread (0x335c770)\n",
      "\n",
      "QObject::moveToThread: Current thread (0x335c770) is not the object's thread (0x33b1960).\n",
      "Cannot move to target thread (0x335c770)\n",
      "\n",
      "QObject::moveToThread: Current thread (0x335c770) is not the object's thread (0x33b1960).\n",
      "Cannot move to target thread (0x335c770)\n",
      "\n",
      "QObject::moveToThread: Current thread (0x335c770) is not the object's thread (0x33b1960).\n",
      "Cannot move to target thread (0x335c770)\n",
      "\n",
      "QObject::moveToThread: Current thread (0x335c770) is not the object's thread (0x33b1960).\n",
      "Cannot move to target thread (0x335c770)\n",
      "\n",
      "QObject::moveToThread: Current thread (0x335c770) is not the object's thread (0x33b1960).\n",
      "Cannot move to target thread (0x335c770)\n",
      "\n",
      "QObject::moveToThread: Current thread (0x335c770) is not the object's thread (0x33b1960).\n",
      "Cannot move to target thread (0x335c770)\n",
      "\n",
      "QObject::moveToThread: Current thread (0x335c770) is not the object's thread (0x33b1960).\n",
      "Cannot move to target thread (0x335c770)\n",
      "\n",
      "QObject::moveToThread: Current thread (0x335c770) is not the object's thread (0x33b1960).\n",
      "Cannot move to target thread (0x335c770)\n",
      "\n",
      "QObject::moveToThread: Current thread (0x335c770) is not the object's thread (0x33b1960).\n",
      "Cannot move to target thread (0x335c770)\n",
      "\n",
      "QObject::moveToThread: Current thread (0x335c770) is not the object's thread (0x33b1960).\n",
      "Cannot move to target thread (0x335c770)\n",
      "\n",
      "QObject::moveToThread: Current thread (0x335c770) is not the object's thread (0x33b1960).\n",
      "Cannot move to target thread (0x335c770)\n",
      "\n",
      "QObject::moveToThread: Current thread (0x335c770) is not the object's thread (0x33b1960).\n",
      "Cannot move to target thread (0x335c770)\n",
      "\n",
      "QObject::moveToThread: Current thread (0x335c770) is not the object's thread (0x33b1960).\n",
      "Cannot move to target thread (0x335c770)\n",
      "\n",
      "QObject::moveToThread: Current thread (0x335c770) is not the object's thread (0x33b1960).\n",
      "Cannot move to target thread (0x335c770)\n",
      "\n",
      "QObject::moveToThread: Current thread (0x335c770) is not the object's thread (0x33b1960).\n",
      "Cannot move to target thread (0x335c770)\n",
      "\n",
      "QObject::moveToThread: Current thread (0x335c770) is not the object's thread (0x33b1960).\n",
      "Cannot move to target thread (0x335c770)\n",
      "\n",
      "QObject::moveToThread: Current thread (0x335c770) is not the object's thread (0x33b1960).\n",
      "Cannot move to target thread (0x335c770)\n",
      "\n",
      "QObject::moveToThread: Current thread (0x335c770) is not the object's thread (0x33b1960).\n",
      "Cannot move to target thread (0x335c770)\n",
      "\n",
      "QObject::moveToThread: Current thread (0x335c770) is not the object's thread (0x33b1960).\n",
      "Cannot move to target thread (0x335c770)\n",
      "\n",
      "QObject::moveToThread: Current thread (0x335c770) is not the object's thread (0x33b1960).\n",
      "Cannot move to target thread (0x335c770)\n",
      "\n",
      "QObject::moveToThread: Current thread (0x335c770) is not the object's thread (0x33b1960).\n",
      "Cannot move to target thread (0x335c770)\n",
      "\n",
      "QObject::moveToThread: Current thread (0x335c770) is not the object's thread (0x33b1960).\n",
      "Cannot move to target thread (0x335c770)\n",
      "\n",
      "QObject::moveToThread: Current thread (0x335c770) is not the object's thread (0x33b1960).\n",
      "Cannot move to target thread (0x335c770)\n",
      "\n",
      "QObject::moveToThread: Current thread (0x335c770) is not the object's thread (0x33b1960).\n",
      "Cannot move to target thread (0x335c770)\n",
      "\n",
      "QObject::moveToThread: Current thread (0x335c770) is not the object's thread (0x33b1960).\n",
      "Cannot move to target thread (0x335c770)\n",
      "\n",
      "QObject::moveToThread: Current thread (0x335c770) is not the object's thread (0x33b1960).\n",
      "Cannot move to target thread (0x335c770)\n",
      "\n",
      "QObject::moveToThread: Current thread (0x335c770) is not the object's thread (0x33b1960).\n",
      "Cannot move to target thread (0x335c770)\n",
      "\n",
      "QObject::moveToThread: Current thread (0x335c770) is not the object's thread (0x33b1960).\n",
      "Cannot move to target thread (0x335c770)\n",
      "\n",
      "QObject::moveToThread: Current thread (0x335c770) is not the object's thread (0x33b1960).\n",
      "Cannot move to target thread (0x335c770)\n",
      "\n",
      "QObject::moveToThread: Current thread (0x335c770) is not the object's thread (0x33b1960).\n",
      "Cannot move to target thread (0x335c770)\n",
      "\n",
      "QObject::moveToThread: Current thread (0x335c770) is not the object's thread (0x33b1960).\n",
      "Cannot move to target thread (0x335c770)\n",
      "\n",
      "QObject::moveToThread: Current thread (0x335c770) is not the object's thread (0x33b1960).\n",
      "Cannot move to target thread (0x335c770)\n",
      "\n",
      "QObject::moveToThread: Current thread (0x335c770) is not the object's thread (0x33b1960).\n",
      "Cannot move to target thread (0x335c770)\n",
      "\n",
      "QObject::moveToThread: Current thread (0x335c770) is not the object's thread (0x33b1960).\n",
      "Cannot move to target thread (0x335c770)\n",
      "\n",
      "QObject::moveToThread: Current thread (0x335c770) is not the object's thread (0x33b1960).\n",
      "Cannot move to target thread (0x335c770)\n",
      "\n",
      "QObject::moveToThread: Current thread (0x335c770) is not the object's thread (0x33b1960).\n",
      "Cannot move to target thread (0x335c770)\n",
      "\n",
      "QObject::moveToThread: Current thread (0x335c770) is not the object's thread (0x33b1960).\n",
      "Cannot move to target thread (0x335c770)\n",
      "\n",
      "QObject::moveToThread: Current thread (0x335c770) is not the object's thread (0x33b1960).\n",
      "Cannot move to target thread (0x335c770)\n",
      "\n",
      "QObject::moveToThread: Current thread (0x335c770) is not the object's thread (0x33b1960).\n",
      "Cannot move to target thread (0x335c770)\n",
      "\n",
      "QObject::moveToThread: Current thread (0x335c770) is not the object's thread (0x33b1960).\n",
      "Cannot move to target thread (0x335c770)\n",
      "\n",
      "QObject::moveToThread: Current thread (0x335c770) is not the object's thread (0x33b1960).\n",
      "Cannot move to target thread (0x335c770)\n",
      "\n",
      "QObject::moveToThread: Current thread (0x335c770) is not the object's thread (0x33b1960).\n",
      "Cannot move to target thread (0x335c770)\n",
      "\n",
      "QObject::moveToThread: Current thread (0x335c770) is not the object's thread (0x33b1960).\n",
      "Cannot move to target thread (0x335c770)\n",
      "\n",
      "QObject::moveToThread: Current thread (0x335c770) is not the object's thread (0x33b1960).\n",
      "Cannot move to target thread (0x335c770)\n",
      "\n",
      "QObject::moveToThread: Current thread (0x335c770) is not the object's thread (0x33b1960).\n",
      "Cannot move to target thread (0x335c770)\n",
      "\n",
      "QObject::moveToThread: Current thread (0x335c770) is not the object's thread (0x33b1960).\n",
      "Cannot move to target thread (0x335c770)\n",
      "\n",
      "QObject::moveToThread: Current thread (0x335c770) is not the object's thread (0x33b1960).\n",
      "Cannot move to target thread (0x335c770)\n",
      "\n",
      "QObject::moveToThread: Current thread (0x335c770) is not the object's thread (0x33b1960).\n",
      "Cannot move to target thread (0x335c770)\n",
      "\n",
      "QObject::moveToThread: Current thread (0x335c770) is not the object's thread (0x33b1960).\n",
      "Cannot move to target thread (0x335c770)\n",
      "\n",
      "QObject::moveToThread: Current thread (0x335c770) is not the object's thread (0x33b1960).\n",
      "Cannot move to target thread (0x335c770)\n",
      "\n",
      "QObject::moveToThread: Current thread (0x335c770) is not the object's thread (0x33b1960).\n",
      "Cannot move to target thread (0x335c770)\n",
      "\n",
      "QObject::moveToThread: Current thread (0x335c770) is not the object's thread (0x33b1960).\n",
      "Cannot move to target thread (0x335c770)\n",
      "\n",
      "QObject::moveToThread: Current thread (0x335c770) is not the object's thread (0x33b1960).\n",
      "Cannot move to target thread (0x335c770)\n",
      "\n",
      "QObject::moveToThread: Current thread (0x335c770) is not the object's thread (0x33b1960).\n",
      "Cannot move to target thread (0x335c770)\n",
      "\n",
      "QObject::moveToThread: Current thread (0x335c770) is not the object's thread (0x33b1960).\n",
      "Cannot move to target thread (0x335c770)\n",
      "\n",
      "QObject::moveToThread: Current thread (0x335c770) is not the object's thread (0x33b1960).\n",
      "Cannot move to target thread (0x335c770)\n",
      "\n",
      "QObject::moveToThread: Current thread (0x335c770) is not the object's thread (0x33b1960).\n",
      "Cannot move to target thread (0x335c770)\n",
      "\n",
      "QObject::moveToThread: Current thread (0x335c770) is not the object's thread (0x33b1960).\n",
      "Cannot move to target thread (0x335c770)\n",
      "\n",
      "QObject::moveToThread: Current thread (0x335c770) is not the object's thread (0x33b1960).\n",
      "Cannot move to target thread (0x335c770)\n",
      "\n",
      "QObject::moveToThread: Current thread (0x335c770) is not the object's thread (0x33b1960).\n",
      "Cannot move to target thread (0x335c770)\n",
      "\n",
      "QObject::moveToThread: Current thread (0x335c770) is not the object's thread (0x33b1960).\n",
      "Cannot move to target thread (0x335c770)\n",
      "\n",
      "QObject::moveToThread: Current thread (0x335c770) is not the object's thread (0x33b1960).\n",
      "Cannot move to target thread (0x335c770)\n",
      "\n",
      "QObject::moveToThread: Current thread (0x335c770) is not the object's thread (0x33b1960).\n",
      "Cannot move to target thread (0x335c770)\n",
      "\n",
      "QObject::moveToThread: Current thread (0x335c770) is not the object's thread (0x33b1960).\n",
      "Cannot move to target thread (0x335c770)\n",
      "\n",
      "QObject::moveToThread: Current thread (0x335c770) is not the object's thread (0x33b1960).\n",
      "Cannot move to target thread (0x335c770)\n",
      "\n",
      "QObject::moveToThread: Current thread (0x335c770) is not the object's thread (0x33b1960).\n",
      "Cannot move to target thread (0x335c770)\n",
      "\n",
      "QObject::moveToThread: Current thread (0x335c770) is not the object's thread (0x33b1960).\n",
      "Cannot move to target thread (0x335c770)\n",
      "\n",
      "QObject::moveToThread: Current thread (0x335c770) is not the object's thread (0x33b1960).\n",
      "Cannot move to target thread (0x335c770)\n",
      "\n",
      "QObject::moveToThread: Current thread (0x335c770) is not the object's thread (0x33b1960).\n",
      "Cannot move to target thread (0x335c770)\n",
      "\n",
      "QObject::moveToThread: Current thread (0x335c770) is not the object's thread (0x33b1960).\n",
      "Cannot move to target thread (0x335c770)\n",
      "\n",
      "QObject::moveToThread: Current thread (0x335c770) is not the object's thread (0x33b1960).\n",
      "Cannot move to target thread (0x335c770)\n",
      "\n",
      "QObject::moveToThread: Current thread (0x335c770) is not the object's thread (0x33b1960).\n",
      "Cannot move to target thread (0x335c770)\n",
      "\n",
      "QObject::moveToThread: Current thread (0x335c770) is not the object's thread (0x33b1960).\n",
      "Cannot move to target thread (0x335c770)\n",
      "\n",
      "QObject::moveToThread: Current thread (0x335c770) is not the object's thread (0x33b1960).\n",
      "Cannot move to target thread (0x335c770)\n",
      "\n",
      "QObject::moveToThread: Current thread (0x335c770) is not the object's thread (0x33b1960).\n",
      "Cannot move to target thread (0x335c770)\n",
      "\n",
      "QObject::moveToThread: Current thread (0x335c770) is not the object's thread (0x33b1960).\n",
      "Cannot move to target thread (0x335c770)\n",
      "\n",
      "QObject::moveToThread: Current thread (0x335c770) is not the object's thread (0x33b1960).\n",
      "Cannot move to target thread (0x335c770)\n",
      "\n",
      "QObject::moveToThread: Current thread (0x335c770) is not the object's thread (0x33b1960).\n",
      "Cannot move to target thread (0x335c770)\n",
      "\n",
      "QObject::moveToThread: Current thread (0x335c770) is not the object's thread (0x33b1960).\n",
      "Cannot move to target thread (0x335c770)\n",
      "\n",
      "QObject::moveToThread: Current thread (0x335c770) is not the object's thread (0x33b1960).\n",
      "Cannot move to target thread (0x335c770)\n",
      "\n",
      "QObject::moveToThread: Current thread (0x335c770) is not the object's thread (0x33b1960).\n",
      "Cannot move to target thread (0x335c770)\n",
      "\n",
      "QObject::moveToThread: Current thread (0x335c770) is not the object's thread (0x33b1960).\n",
      "Cannot move to target thread (0x335c770)\n",
      "\n",
      "QObject::moveToThread: Current thread (0x335c770) is not the object's thread (0x33b1960).\n",
      "Cannot move to target thread (0x335c770)\n",
      "\n",
      "QObject::moveToThread: Current thread (0x335c770) is not the object's thread (0x33b1960).\n",
      "Cannot move to target thread (0x335c770)\n",
      "\n",
      "QObject::moveToThread: Current thread (0x335c770) is not the object's thread (0x33b1960).\n",
      "Cannot move to target thread (0x335c770)\n",
      "\n",
      "QObject::moveToThread: Current thread (0x335c770) is not the object's thread (0x33b1960).\n",
      "Cannot move to target thread (0x335c770)\n",
      "\n",
      "QObject::moveToThread: Current thread (0x335c770) is not the object's thread (0x33b1960).\n",
      "Cannot move to target thread (0x335c770)\n",
      "\n",
      "QObject::moveToThread: Current thread (0x335c770) is not the object's thread (0x33b1960).\n",
      "Cannot move to target thread (0x335c770)\n",
      "\n",
      "QObject::moveToThread: Current thread (0x335c770) is not the object's thread (0x33b1960).\n",
      "Cannot move to target thread (0x335c770)\n",
      "\n",
      "QObject::moveToThread: Current thread (0x335c770) is not the object's thread (0x33b1960).\n",
      "Cannot move to target thread (0x335c770)\n",
      "\n"
     ]
    }
   ],
   "source": [
    "cv2.imshow(\"ad\", resisewithAS)"
   ]
  },
  {
   "cell_type": "markdown",
   "metadata": {},
   "source": [
    "enhance image brightness and contrast"
   ]
  },
  {
   "cell_type": "code",
   "execution_count": 56,
   "metadata": {},
   "outputs": [],
   "source": [
    "from PIL import Image, ImageEnhance\n",
    "baby_shower = Image.open(\"function.JPG\")\n"
   ]
  },
  {
   "cell_type": "code",
   "execution_count": 65,
   "metadata": {},
   "outputs": [],
   "source": [
    "enhancer = ImageEnhance.Brightness(baby_shower)\n",
    "img = enhancer.enhance(1.1)\n",
    "enhancer = ImageEnhance.Contrast(img)\n",
    "img = enhancer.enhance(1.8)\n",
    "img.save(\"enh.png\")\n"
   ]
  },
  {
   "cell_type": "markdown",
   "metadata": {},
   "source": [
    "by cv2"
   ]
  },
  {
   "cell_type": "code",
   "execution_count": 68,
   "metadata": {},
   "outputs": [
    {
     "data": {
      "text/plain": [
       "True"
      ]
     },
     "execution_count": 68,
     "metadata": {},
     "output_type": "execute_result"
    }
   ],
   "source": [
    "import numpy as np\n",
    "import cv2\n",
    "\n",
    "img = cv2.imread(\"function.JPG\")\n",
    "alpha = 1.5\n",
    "beta = 50\n",
    "adjusted = np.clip(alpha*img + beta, 0, 255).astype(np.uint8)\n",
    "cv2.imwrite(\"adj.png\", adjusted)\n"
   ]
  },
  {
   "cell_type": "markdown",
   "metadata": {},
   "source": [
    "Histogram"
   ]
  },
  {
   "cell_type": "code",
   "execution_count": 69,
   "metadata": {},
   "outputs": [],
   "source": [
    "import matplotlib.pyplot as plt\n"
   ]
  },
  {
   "cell_type": "code",
   "execution_count": 74,
   "metadata": {},
   "outputs": [
    {
     "data": {
      "image/png": "[encoded data removed]",
      "text/plain": [
       "<Figure size 640x480 with 1 Axes>"
      ]
     },
     "metadata": {},
     "output_type": "display_data"
    }
   ],
   "source": [
    "gray_img = cv2.imread(\"function.JPG\", 0)\n",
    "#hist, bins = np.histogram(gray_img.ravel(), 256, [0,256])\n",
    "plt.hist(gray_img.ravel(), 256, [0, 256])\n",
    "plt.show()\n"
   ]
  },
  {
   "cell_type": "code",
   "execution_count": 76,
   "metadata": {},
   "outputs": [
    {
     "data": {
      "text/plain": [
       "True"
      ]
     },
     "execution_count": 76,
     "metadata": {},
     "output_type": "execute_result"
    }
   ],
   "source": [
    "img = cv2.imread(\"function.JPG\")\n",
    "\n",
    "#convert to lab color space\n",
    "lab = cv2.cvtColor(img, cv2.COLOR_BGR2LAB)\n",
    "\n",
    "# adjust color bal\n",
    "l, a, b = cv2.split(lab)\n",
    "clahe = cv2.createCLAHE(clipLimit=2.0, tileGridSize=(8,8))\n",
    "cl = clahe.apply(l)\n",
    "lab = cv2.merge((cl, a, b))\n",
    "\n",
    "#convert back to BGR\n",
    "output = cv2.cvtColor(lab, cv2.COLOR_LAB2BGR)\n",
    "cv2.imwrite(\"color.png\", output)\n"
   ]
  },
  {
   "cell_type": "code",
   "execution_count": 77,
   "metadata": {},
   "outputs": [
    {
     "data": {
      "text/plain": [
       "True"
      ]
     },
     "execution_count": 77,
     "metadata": {},
     "output_type": "execute_result"
    }
   ],
   "source": [
    "img = cv2.imread(\"color.png\")\n",
    "hls = cv2.cvtColor(img, cv2.COLOR_BGR2HLS)\n",
    "hls[:,:,2] = np.clip(hls[:,:,2]*1.5,0,255).astype(np.uint8)\n",
    "output = cv2.cvtColor(hls, cv2.COLOR_HLS2BGR)\n",
    "cv2.imwrite(\"saturated.png\", output)\n"
   ]
  },
  {
   "cell_type": "code",
   "execution_count": 82,
   "metadata": {},
   "outputs": [
    {
     "data": {
      "text/plain": [
       "True"
      ]
     },
     "execution_count": 82,
     "metadata": {},
     "output_type": "execute_result"
    }
   ],
   "source": [
    "img = cv2.imread(\"saturated.png\")\n",
    "hsv = cv2.cvtColor(img, cv2.COLOR_BGR2HSV)\n",
    "lower_red = np.array([0, 100, 100])\n",
    "upper_red = np.array([10, 100, 100])\n",
    "mask = cv2.inRange(hsv, lower_red, upper_red)\n",
    "hsv[:,:,0] = np.where(mask>0, hsv[:,:,0]+50,hsv[:,:,0])\n",
    "output = cv2.cvtColor(hsv, cv2.COLOR_HSV2BGR)\n",
    "cv2.imwrite(\"hsv.png\", output)\n"
   ]
  },
  {
   "cell_type": "code",
   "execution_count": null,
   "metadata": {},
   "outputs": [],
   "source": []
  },
  {
   "cell_type": "code",
   "execution_count": null,
   "metadata": {},
   "outputs": [],
   "source": []
  },
  {
   "cell_type": "code",
   "execution_count": null,
   "metadata": {},
   "outputs": [],
   "source": []
  }
 ],
 "metadata": {
  "kernelspec": {
   "display_name": "Python 3 (ipykernel)",
   "language": "python",
   "name": "python3"
  },
  "language_info": {
   "codemirror_mode": {
    "name": "ipython",
    "version": 3
   },
   "file_extension": ".py",
   "mimetype": "text/x-python",
   "name": "python",
   "nbconvert_exporter": "python",
   "pygments_lexer": "ipython3",
   "version": "3.9.12"
  }
 },
 "nbformat": 4,
 "nbformat_minor": 2
}
