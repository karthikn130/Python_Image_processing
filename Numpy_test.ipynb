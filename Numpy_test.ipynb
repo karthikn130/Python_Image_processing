{
 "cells": [
  {
   "cell_type": "code",
   "execution_count": null,
   "metadata": {},
   "outputs": [],
   "source": []
  },
  {
   "cell_type": "markdown",
   "metadata": {},
   "source": [
    "Testing your NumPy skills as a beginner involves working on practical exercises and projects that cover fundamental concepts and operations. Here are some exercises and suggestions to help you assess and strengthen your NumPy skills:\n",
    "\n",
    "    Basic Array Operations:\n",
    "        Create NumPy arrays with different shapes and dimensions.\n",
    "        Perform basic array operations: addition, subtraction, multiplication, and division.\n",
    "        Use functions like np.sum(), np.mean(), np.max(), and np.min().\n",
    "\n",
    "    Indexing and Slicing:\n",
    "        Practice indexing and slicing NumPy arrays.\n",
    "        Understand the difference between integer and boolean indexing.\n",
    "        Use slicing to extract specific subarrays from larger arrays.\n",
    "\n",
    "    Array Manipulation:\n",
    "        Reshape arrays using np.reshape() and np.resize().\n",
    "        Flatten and concatenate arrays.\n",
    "        Transpose arrays using np.transpose() or array attribute .T.\n",
    "\n",
    "    Universal Functions (ufuncs):\n",
    "        Apply universal functions to arrays, such as np.sin(), np.cos(), np.exp(), and np.sqrt().\n",
    "        Understand broadcasting and apply it in operations involving arrays of different shapes.\n",
    "\n",
    "    Random Number Generation:\n",
    "        Use NumPy's random module (np.random) to generate random numbers.\n",
    "        Create random arrays with different distributions (uniform, normal, etc.).\n",
    "\n",
    "    Linear Algebra:\n",
    "        Perform basic linear algebra operations using functions like np.dot(), np.linalg.inv(), and np.linalg.det().\n",
    "        Solve systems of linear equations using NumPy functions.\n",
    "\n",
    "    Statistical Operations:\n",
    "        Use NumPy for statistical analysis, including calculating mean, median, variance, and standard deviation.\n",
    "        Generate random data and perform statistical tests.\n",
    "\n",
    "    Data Cleaning and Preprocessing:\n",
    "        Work with missing data and handle it using NumPy functions.\n",
    "        Normalize and standardize data.\n",
    "\n",
    "    Image Processing (Optional):\n",
    "        Explore basic image processing tasks using NumPy, such as loading images and manipulating pixel values.\n",
    "\n",
    "    Coding Challenges:\n",
    "        Solve coding challenges on platforms like HackerRank, LeetCode, or Kaggle that involve NumPy operations.\n",
    "        Participate in data science competitions on platforms like Kaggle to apply NumPy skills to real-world problems.\n",
    "\n",
    "    Build Projects:\n",
    "        Work on small projects that involve numerical computing. For example, implement a simple calculator, data analysis tool, or a basic simulation using NumPy."
   ]
  },
  {
   "cell_type": "markdown",
   "metadata": {},
   "source": [
    "Basic Array Operations:\n",
    "        Create NumPy arrays with different shapes and dimensions.\n",
    "        Perform basic array operations: addition, subtraction, multiplication, and division.\n",
    "        Use functions like np.sum(), np.mean(), np.max(), and np.min().\n"
   ]
  },
  {
   "cell_type": "code",
   "execution_count": 26,
   "metadata": {},
   "outputs": [
    {
     "name": "stdout",
     "output_type": "stream",
     "text": [
      "[0 1 2 3 4 5 6 7 8 9]\n",
      "\n",
      "[[0. 0. 0.]\n",
      " [0. 0. 0.]\n",
      " [0. 0. 0.]]\n",
      "\n",
      "[[0. 1. 2.]\n",
      " [0. 1. 2.]\n",
      " [0. 1. 2.]]\n",
      "\n",
      "[[0. 0. 0.]\n",
      " [0. 0. 0.]\n",
      " [0. 0. 0.]]\n",
      "2\n",
      "(3, 3)\n",
      "\n",
      "[[0. 1. 2.]\n",
      " [0. 1. 2.]\n",
      " [0. 1. 2.]]\n",
      "\n"
     ]
    },
    {
     "data": {
      "text/plain": [
       "9"
      ]
     },
     "execution_count": 26,
     "metadata": {},
     "output_type": "execute_result"
    }
   ],
   "source": [
    "import numpy as np\n",
    "ten_no = np.arange(0, 10, 1)\n",
    "zero = np.zeros((3,3), dtype=float)\n",
    "one = np.ones((2,8,9))\n",
    "\n",
    "print(ten_no)\n",
    "print(\"\")\n",
    "print(zero)\n",
    "print(\"\")\n",
    "\n",
    "ten = np.vstack((ten_no, ten_no, ten_no))\n",
    "\n",
    "ten = ten[0:3, 0:3]\n",
    "add = ten + zero\n",
    "print(add)\n",
    "print(\"\")\n",
    "\n",
    "mul = ten * zero\n",
    "print(mul)\n",
    "print(mul.ndim)\n",
    "print(mul.shape)\n",
    "print(\"\")\n",
    "\n",
    "sub = ten - zero\n",
    "print(sub)\n",
    "print(\"\")\n",
    "\n",
    "np.sum(ten_no, axis=0)\n",
    "np.mean(ten_no)\n",
    "np.max(ten_no)"
   ]
  },
  {
   "cell_type": "markdown",
   "metadata": {},
   "source": [
    "Indexing and Slicing:\n",
    "        Practice indexing and slicing NumPy arrays.\n",
    "        Understand the difference between integer and boolean indexing.\n",
    "        Use slicing to extract specific subarrays from larger arrays."
   ]
  },
  {
   "cell_type": "code",
   "execution_count": 33,
   "metadata": {},
   "outputs": [
    {
     "name": "stdout",
     "output_type": "stream",
     "text": [
      "[[1 1 1 1 1]\n",
      " [1 1 1 1 1]\n",
      " [1 1 1 1 1]\n",
      " [1 1 1 1 1]\n",
      " [1 1 1 1 1]]\n"
     ]
    },
    {
     "data": {
      "text/plain": [
       "array([[1, 1, 1, 1, 1],\n",
       "       [1, 1, 1, 1, 1],\n",
       "       [1, 6, 6, 6, 1],\n",
       "       [1, 1, 1, 1, 1],\n",
       "       [1, 1, 1, 1, 1]])"
      ]
     },
     "execution_count": 33,
     "metadata": {},
     "output_type": "execute_result"
    }
   ],
   "source": [
    "zero = np.ones((5,5), dtype=int)\n",
    "print(zero)\n",
    "zero[2,1:4]= 6\n",
    "\n",
    "zero"
   ]
  },
  {
   "cell_type": "markdown",
   "metadata": {},
   "source": [
    "Array Manipulation:\n",
    "        Reshape arrays using np.reshape() and np.resize().\n",
    "        Flatten and concatenate arrays.\n",
    "        Transpose arrays using np.transpose() or array attribute .T."
   ]
  },
  {
   "cell_type": "code",
   "execution_count": 46,
   "metadata": {},
   "outputs": [
    {
     "name": "stdout",
     "output_type": "stream",
     "text": [
      "[1. 1. 1. 1. 1. 1. 1. 1. 1. 1. 1. 1. 1. 1. 1. 1. 1. 1. 1. 1. 1. 1. 1. 1.\n",
      " 1. 1. 1. 1. 1. 1. 1. 1. 1. 1. 1. 1. 1. 1. 1. 1. 1. 1. 1. 1. 1. 1. 1. 1.\n",
      " 1. 1. 1. 1. 1. 1. 1. 1. 1. 1. 1. 1. 1. 1. 1. 1. 1. 1. 1. 1. 1. 1. 1. 1.\n",
      " 1. 1. 1. 1. 1. 1. 1. 1. 1. 1. 1. 1. 1. 1. 1. 1. 1. 1. 1. 1. 1. 1. 1. 1.\n",
      " 1. 1. 1. 1.]\n",
      "\n",
      "\n",
      "None\n"
     ]
    },
    {
     "data": {
      "text/plain": [
       "array([[1., 1.],\n",
       "       [1., 1.],\n",
       "       [1., 1.],\n",
       "       [1., 1.],\n",
       "       [1., 1.],\n",
       "       [1., 1.],\n",
       "       [1., 1.],\n",
       "       [1., 1.],\n",
       "       [1., 1.],\n",
       "       [1., 1.],\n",
       "       [1., 1.],\n",
       "       [1., 1.],\n",
       "       [1., 1.],\n",
       "       [1., 1.],\n",
       "       [1., 1.],\n",
       "       [1., 1.],\n",
       "       [1., 1.],\n",
       "       [1., 1.],\n",
       "       [1., 1.],\n",
       "       [1., 1.],\n",
       "       [1., 1.],\n",
       "       [1., 1.],\n",
       "       [1., 1.],\n",
       "       [1., 1.],\n",
       "       [1., 1.],\n",
       "       [1., 1.],\n",
       "       [1., 1.],\n",
       "       [1., 1.],\n",
       "       [1., 1.],\n",
       "       [1., 1.],\n",
       "       [1., 1.],\n",
       "       [1., 1.],\n",
       "       [1., 1.],\n",
       "       [1., 1.],\n",
       "       [1., 1.],\n",
       "       [1., 1.],\n",
       "       [1., 1.],\n",
       "       [1., 1.],\n",
       "       [1., 1.],\n",
       "       [1., 1.],\n",
       "       [1., 1.],\n",
       "       [1., 1.],\n",
       "       [1., 1.],\n",
       "       [1., 1.],\n",
       "       [1., 1.],\n",
       "       [1., 1.],\n",
       "       [1., 1.],\n",
       "       [1., 1.],\n",
       "       [1., 1.],\n",
       "       [1., 1.]])"
      ]
     },
     "execution_count": 46,
     "metadata": {},
     "output_type": "execute_result"
    }
   ],
   "source": [
    "zero = np.ones((100))\n",
    "print(zero)\n",
    "#test = zero.reshape(20,2)\n",
    "print(\"\")\n",
    "#print(test)\n",
    "print(\"\")\n",
    "\n",
    "test1 = zero.resize(50,2)\n",
    "\n",
    "print(test1)\n",
    "\n",
    "w = zero.T\n",
    "w.T\n",
    "\n",
    "\n",
    "\n"
   ]
  },
  {
   "cell_type": "code",
   "execution_count": null,
   "metadata": {},
   "outputs": [],
   "source": []
  },
  {
   "cell_type": "code",
   "execution_count": null,
   "metadata": {},
   "outputs": [],
   "source": []
  },
  {
   "cell_type": "code",
   "execution_count": null,
   "metadata": {},
   "outputs": [],
   "source": []
  },
  {
   "cell_type": "code",
   "execution_count": null,
   "metadata": {},
   "outputs": [],
   "source": []
  },
  {
   "cell_type": "code",
   "execution_count": null,
   "metadata": {},
   "outputs": [],
   "source": []
  },
  {
   "cell_type": "code",
   "execution_count": null,
   "metadata": {},
   "outputs": [],
   "source": []
  },
  {
   "cell_type": "code",
   "execution_count": null,
   "metadata": {},
   "outputs": [],
   "source": []
  },
  {
   "cell_type": "code",
   "execution_count": null,
   "metadata": {},
   "outputs": [],
   "source": []
  },
  {
   "cell_type": "code",
   "execution_count": null,
   "metadata": {},
   "outputs": [],
   "source": []
  },
  {
   "cell_type": "code",
   "execution_count": null,
   "metadata": {},
   "outputs": [],
   "source": []
  },
  {
   "cell_type": "code",
   "execution_count": null,
   "metadata": {},
   "outputs": [],
   "source": []
  },
  {
   "cell_type": "code",
   "execution_count": null,
   "metadata": {},
   "outputs": [],
   "source": []
  },
  {
   "cell_type": "code",
   "execution_count": null,
   "metadata": {},
   "outputs": [],
   "source": []
  },
  {
   "cell_type": "code",
   "execution_count": null,
   "metadata": {},
   "outputs": [],
   "source": []
  },
  {
   "cell_type": "code",
   "execution_count": null,
   "metadata": {},
   "outputs": [],
   "source": []
  },
  {
   "cell_type": "code",
   "execution_count": null,
   "metadata": {},
   "outputs": [],
   "source": []
  },
  {
   "cell_type": "code",
   "execution_count": null,
   "metadata": {},
   "outputs": [],
   "source": []
  },
  {
   "cell_type": "code",
   "execution_count": null,
   "metadata": {},
   "outputs": [],
   "source": []
  },
  {
   "cell_type": "code",
   "execution_count": null,
   "metadata": {},
   "outputs": [],
   "source": []
  },
  {
   "cell_type": "code",
   "execution_count": null,
   "metadata": {},
   "outputs": [],
   "source": []
  },
  {
   "cell_type": "code",
   "execution_count": null,
   "metadata": {},
   "outputs": [],
   "source": []
  },
  {
   "cell_type": "code",
   "execution_count": null,
   "metadata": {},
   "outputs": [],
   "source": []
  },
  {
   "cell_type": "code",
   "execution_count": null,
   "metadata": {},
   "outputs": [],
   "source": []
  },
  {
   "cell_type": "code",
   "execution_count": null,
   "metadata": {},
   "outputs": [],
   "source": []
  },
  {
   "cell_type": "code",
   "execution_count": null,
   "metadata": {},
   "outputs": [],
   "source": []
  },
  {
   "cell_type": "code",
   "execution_count": null,
   "metadata": {},
   "outputs": [],
   "source": []
  },
  {
   "cell_type": "code",
   "execution_count": null,
   "metadata": {},
   "outputs": [],
   "source": []
  },
  {
   "cell_type": "code",
   "execution_count": null,
   "metadata": {},
   "outputs": [],
   "source": []
  },
  {
   "cell_type": "code",
   "execution_count": null,
   "metadata": {},
   "outputs": [],
   "source": []
  },
  {
   "cell_type": "code",
   "execution_count": null,
   "metadata": {},
   "outputs": [],
   "source": []
  },
  {
   "cell_type": "code",
   "execution_count": null,
   "metadata": {},
   "outputs": [],
   "source": []
  }
 ],
 "metadata": {
  "kernelspec": {
   "display_name": "Python_image_processing",
   "language": "python",
   "name": "python3"
  },
  "language_info": {
   "codemirror_mode": {
    "name": "ipython",
    "version": 3
   },
   "file_extension": ".py",
   "mimetype": "text/x-python",
   "name": "python",
   "nbconvert_exporter": "python",
   "pygments_lexer": "ipython3",
   "version": "3.12.1"
  }
 },
 "nbformat": 4,
 "nbformat_minor": 2
}
